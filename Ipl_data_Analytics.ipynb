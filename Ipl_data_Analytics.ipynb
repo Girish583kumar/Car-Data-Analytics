{
  "nbformat": 4,
  "nbformat_minor": 0,
  "metadata": {
    "colab": {
      "provenance": [],
      "authorship_tag": "ABX9TyM147YBk/BTrhCRei2HmWvt",
      "include_colab_link": true
    },
    "kernelspec": {
      "name": "python3",
      "display_name": "Python 3"
    },
    "language_info": {
      "name": "python"
    }
  },
  "cells": [
    {
      "cell_type": "markdown",
      "metadata": {
        "id": "view-in-github",
        "colab_type": "text"
      },
      "source": [
        "<a href=\"https://colab.research.google.com/github/Girish583kumar/Car-Data-Analytics/blob/main/Ipl_data_Analytics.ipynb\" target=\"_parent\"><img src=\"https://colab.research.google.com/assets/colab-badge.svg\" alt=\"Open In Colab\"/></a>"
      ]
    },
    {
      "cell_type": "code",
      "execution_count": null,
      "metadata": {
        "id": "Al1gPxu-XziU"
      },
      "outputs": [],
      "source": [
        "import pandas as pd\n",
        "import numpy as np\n",
        "import matplotlib.pyplot as plt\n",
        "import seaborn as sns\n"
      ]
    },
    {
      "cell_type": "code",
      "source": [
        "ipl=pd.read_csv('/content/ipl_2023_dataset.csv')\n",
        "ipl.head()"
      ],
      "metadata": {
        "colab": {
          "base_uri": "https://localhost:8080/",
          "height": 302
        },
        "id": "oWBRZuyVZuIU",
        "outputId": "a5980c76-74eb-44b5-c25d-4b46198063da"
      },
      "execution_count": null,
      "outputs": [
        {
          "output_type": "execute_result",
          "data": {
            "text/plain": [
              "       Player Name Base Price          Type  Cost in Rs. (CR)  Cost in $ (K)  \\\n",
              "0      Shivam Mavi    4000000        BOWLER               6.0          720.0   \n",
              "1    Joshua Little    5000000        BOWLER               4.4          528.0   \n",
              "2  Kane Williamson   20000000       BATSMAN               2.0          240.0   \n",
              "3      K.S. Bharat    2000000  WICKETKEEPER               1.2          144.0   \n",
              "4     Mohit Sharma    5000000        BOWLER               0.5           60.0   \n",
              "\n",
              "  2022 Squad 2023 Squad  \n",
              "0        KKR         GT  \n",
              "1        NaN         GT  \n",
              "2        SRH         GT  \n",
              "3         DC         GT  \n",
              "4        NaN         GT  "
            ],
            "text/html": [
              "\n",
              "  <div id=\"df-b0cecb6b-d994-496d-a200-c7c0d38c182e\">\n",
              "    <div class=\"colab-df-container\">\n",
              "      <div>\n",
              "<style scoped>\n",
              "    .dataframe tbody tr th:only-of-type {\n",
              "        vertical-align: middle;\n",
              "    }\n",
              "\n",
              "    .dataframe tbody tr th {\n",
              "        vertical-align: top;\n",
              "    }\n",
              "\n",
              "    .dataframe thead th {\n",
              "        text-align: right;\n",
              "    }\n",
              "</style>\n",
              "<table border=\"1\" class=\"dataframe\">\n",
              "  <thead>\n",
              "    <tr style=\"text-align: right;\">\n",
              "      <th></th>\n",
              "      <th>Player Name</th>\n",
              "      <th>Base Price</th>\n",
              "      <th>Type</th>\n",
              "      <th>Cost in Rs. (CR)</th>\n",
              "      <th>Cost in $ (K)</th>\n",
              "      <th>2022 Squad</th>\n",
              "      <th>2023 Squad</th>\n",
              "    </tr>\n",
              "  </thead>\n",
              "  <tbody>\n",
              "    <tr>\n",
              "      <th>0</th>\n",
              "      <td>Shivam Mavi</td>\n",
              "      <td>4000000</td>\n",
              "      <td>BOWLER</td>\n",
              "      <td>6.0</td>\n",
              "      <td>720.0</td>\n",
              "      <td>KKR</td>\n",
              "      <td>GT</td>\n",
              "    </tr>\n",
              "    <tr>\n",
              "      <th>1</th>\n",
              "      <td>Joshua Little</td>\n",
              "      <td>5000000</td>\n",
              "      <td>BOWLER</td>\n",
              "      <td>4.4</td>\n",
              "      <td>528.0</td>\n",
              "      <td>NaN</td>\n",
              "      <td>GT</td>\n",
              "    </tr>\n",
              "    <tr>\n",
              "      <th>2</th>\n",
              "      <td>Kane Williamson</td>\n",
              "      <td>20000000</td>\n",
              "      <td>BATSMAN</td>\n",
              "      <td>2.0</td>\n",
              "      <td>240.0</td>\n",
              "      <td>SRH</td>\n",
              "      <td>GT</td>\n",
              "    </tr>\n",
              "    <tr>\n",
              "      <th>3</th>\n",
              "      <td>K.S. Bharat</td>\n",
              "      <td>2000000</td>\n",
              "      <td>WICKETKEEPER</td>\n",
              "      <td>1.2</td>\n",
              "      <td>144.0</td>\n",
              "      <td>DC</td>\n",
              "      <td>GT</td>\n",
              "    </tr>\n",
              "    <tr>\n",
              "      <th>4</th>\n",
              "      <td>Mohit Sharma</td>\n",
              "      <td>5000000</td>\n",
              "      <td>BOWLER</td>\n",
              "      <td>0.5</td>\n",
              "      <td>60.0</td>\n",
              "      <td>NaN</td>\n",
              "      <td>GT</td>\n",
              "    </tr>\n",
              "  </tbody>\n",
              "</table>\n",
              "</div>\n",
              "      <button class=\"colab-df-convert\" onclick=\"convertToInteractive('df-b0cecb6b-d994-496d-a200-c7c0d38c182e')\"\n",
              "              title=\"Convert this dataframe to an interactive table.\"\n",
              "              style=\"display:none;\">\n",
              "        \n",
              "  <svg xmlns=\"http://www.w3.org/2000/svg\" height=\"24px\"viewBox=\"0 0 24 24\"\n",
              "       width=\"24px\">\n",
              "    <path d=\"M0 0h24v24H0V0z\" fill=\"none\"/>\n",
              "    <path d=\"M18.56 5.44l.94 2.06.94-2.06 2.06-.94-2.06-.94-.94-2.06-.94 2.06-2.06.94zm-11 1L8.5 8.5l.94-2.06 2.06-.94-2.06-.94L8.5 2.5l-.94 2.06-2.06.94zm10 10l.94 2.06.94-2.06 2.06-.94-2.06-.94-.94-2.06-.94 2.06-2.06.94z\"/><path d=\"M17.41 7.96l-1.37-1.37c-.4-.4-.92-.59-1.43-.59-.52 0-1.04.2-1.43.59L10.3 9.45l-7.72 7.72c-.78.78-.78 2.05 0 2.83L4 21.41c.39.39.9.59 1.41.59.51 0 1.02-.2 1.41-.59l7.78-7.78 2.81-2.81c.8-.78.8-2.07 0-2.86zM5.41 20L4 18.59l7.72-7.72 1.47 1.35L5.41 20z\"/>\n",
              "  </svg>\n",
              "      </button>\n",
              "      \n",
              "  <style>\n",
              "    .colab-df-container {\n",
              "      display:flex;\n",
              "      flex-wrap:wrap;\n",
              "      gap: 12px;\n",
              "    }\n",
              "\n",
              "    .colab-df-convert {\n",
              "      background-color: #E8F0FE;\n",
              "      border: none;\n",
              "      border-radius: 50%;\n",
              "      cursor: pointer;\n",
              "      display: none;\n",
              "      fill: #1967D2;\n",
              "      height: 32px;\n",
              "      padding: 0 0 0 0;\n",
              "      width: 32px;\n",
              "    }\n",
              "\n",
              "    .colab-df-convert:hover {\n",
              "      background-color: #E2EBFA;\n",
              "      box-shadow: 0px 1px 2px rgba(60, 64, 67, 0.3), 0px 1px 3px 1px rgba(60, 64, 67, 0.15);\n",
              "      fill: #174EA6;\n",
              "    }\n",
              "\n",
              "    [theme=dark] .colab-df-convert {\n",
              "      background-color: #3B4455;\n",
              "      fill: #D2E3FC;\n",
              "    }\n",
              "\n",
              "    [theme=dark] .colab-df-convert:hover {\n",
              "      background-color: #434B5C;\n",
              "      box-shadow: 0px 1px 3px 1px rgba(0, 0, 0, 0.15);\n",
              "      filter: drop-shadow(0px 1px 2px rgba(0, 0, 0, 0.3));\n",
              "      fill: #FFFFFF;\n",
              "    }\n",
              "  </style>\n",
              "\n",
              "      <script>\n",
              "        const buttonEl =\n",
              "          document.querySelector('#df-b0cecb6b-d994-496d-a200-c7c0d38c182e button.colab-df-convert');\n",
              "        buttonEl.style.display =\n",
              "          google.colab.kernel.accessAllowed ? 'block' : 'none';\n",
              "\n",
              "        async function convertToInteractive(key) {\n",
              "          const element = document.querySelector('#df-b0cecb6b-d994-496d-a200-c7c0d38c182e');\n",
              "          const dataTable =\n",
              "            await google.colab.kernel.invokeFunction('convertToInteractive',\n",
              "                                                     [key], {});\n",
              "          if (!dataTable) return;\n",
              "\n",
              "          const docLinkHtml = 'Like what you see? Visit the ' +\n",
              "            '<a target=\"_blank\" href=https://colab.research.google.com/notebooks/data_table.ipynb>data table notebook</a>'\n",
              "            + ' to learn more about interactive tables.';\n",
              "          element.innerHTML = '';\n",
              "          dataTable['output_type'] = 'display_data';\n",
              "          await google.colab.output.renderOutput(dataTable, element);\n",
              "          const docLink = document.createElement('div');\n",
              "          docLink.innerHTML = docLinkHtml;\n",
              "          element.appendChild(docLink);\n",
              "        }\n",
              "      </script>\n",
              "    </div>\n",
              "  </div>\n",
              "  "
            ]
          },
          "metadata": {},
          "execution_count": 5
        }
      ]
    },
    {
      "cell_type": "code",
      "source": [],
      "metadata": {
        "id": "_n4jthAY0f9j"
      },
      "execution_count": null,
      "outputs": []
    },
    {
      "cell_type": "markdown",
      "source": [
        "#Data Exploration"
      ],
      "metadata": {
        "id": "A4Upw0bHben3"
      }
    },
    {
      "cell_type": "code",
      "source": [
        "print(\"Number of rows: \",ipl.shape[0])\n",
        "print(\"Number of columns: \",ipl.shape[1])"
      ],
      "metadata": {
        "colab": {
          "base_uri": "https://localhost:8080/"
        },
        "id": "JUChp_EVbJbB",
        "outputId": "4030fcd5-41b1-421a-d282-38655682f613"
      },
      "execution_count": null,
      "outputs": [
        {
          "output_type": "stream",
          "name": "stdout",
          "text": [
            "Number of rows:  568\n",
            "Number of columns:  7\n"
          ]
        }
      ]
    },
    {
      "cell_type": "code",
      "source": [
        "print(\"Number of elements in the dataset: \",ipl.size)"
      ],
      "metadata": {
        "colab": {
          "base_uri": "https://localhost:8080/"
        },
        "id": "3gtVXxavbq0y",
        "outputId": "bc3c6e3c-bd74-47b8-f418-1d98a91843a5"
      },
      "execution_count": null,
      "outputs": [
        {
          "output_type": "stream",
          "name": "stdout",
          "text": [
            "Number of elements in the dataset:  3976\n"
          ]
        }
      ]
    },
    {
      "cell_type": "code",
      "source": [
        "ipl.index"
      ],
      "metadata": {
        "colab": {
          "base_uri": "https://localhost:8080/"
        },
        "id": "nqYdsILNcwNd",
        "outputId": "f5460826-0641-4db4-bf6c-2ddc86417082"
      },
      "execution_count": null,
      "outputs": [
        {
          "output_type": "execute_result",
          "data": {
            "text/plain": [
              "RangeIndex(start=0, stop=568, step=1)"
            ]
          },
          "metadata": {},
          "execution_count": 10
        }
      ]
    },
    {
      "cell_type": "code",
      "source": [
        "ipl.columns"
      ],
      "metadata": {
        "colab": {
          "base_uri": "https://localhost:8080/"
        },
        "id": "hEWqTIMFc0z-",
        "outputId": "e763c3b6-fe0a-4ff5-9991-d23156c7a504"
      },
      "execution_count": null,
      "outputs": [
        {
          "output_type": "execute_result",
          "data": {
            "text/plain": [
              "Index(['Player Name', 'Base Price', 'Type', 'Cost in Rs. (CR)',\n",
              "       'Cost in $ (K)', '2022 Squad', '2023 Squad'],\n",
              "      dtype='object')"
            ]
          },
          "metadata": {},
          "execution_count": 11
        }
      ]
    },
    {
      "cell_type": "code",
      "source": [
        "ipl.info()"
      ],
      "metadata": {
        "colab": {
          "base_uri": "https://localhost:8080/"
        },
        "id": "oqmx7GXec4cV",
        "outputId": "da9a1a34-afc3-4a3b-dbd0-ddfb74bd6a1f"
      },
      "execution_count": null,
      "outputs": [
        {
          "output_type": "stream",
          "name": "stdout",
          "text": [
            "<class 'pandas.core.frame.DataFrame'>\n",
            "RangeIndex: 568 entries, 0 to 567\n",
            "Data columns (total 7 columns):\n",
            " #   Column            Non-Null Count  Dtype  \n",
            "---  ------            --------------  -----  \n",
            " 0   Player Name       568 non-null    object \n",
            " 1   Base Price        568 non-null    object \n",
            " 2   Type              568 non-null    object \n",
            " 3   Cost in Rs. (CR)  243 non-null    float64\n",
            " 4   Cost in $ (K)     243 non-null    float64\n",
            " 5   2022 Squad        230 non-null    object \n",
            " 6   2023 Squad        568 non-null    object \n",
            "dtypes: float64(2), object(5)\n",
            "memory usage: 31.2+ KB\n"
          ]
        }
      ]
    },
    {
      "cell_type": "code",
      "source": [
        "ipl.describe()"
      ],
      "metadata": {
        "colab": {
          "base_uri": "https://localhost:8080/",
          "height": 300
        },
        "id": "o5BHjQeRdA09",
        "outputId": "9cbc17e3-5a18-416e-bdd8-d8e0e3eb28ad"
      },
      "execution_count": null,
      "outputs": [
        {
          "output_type": "execute_result",
          "data": {
            "text/plain": [
              "       Cost in Rs. (CR)  Cost in $ (K)\n",
              "count        243.000000     243.000000\n",
              "mean           0.687243      82.469136\n",
              "std            2.511700     301.404032\n",
              "min            0.000000       0.000000\n",
              "25%            0.000000       0.000000\n",
              "50%            0.000000       0.000000\n",
              "75%            0.200000      24.000000\n",
              "max           18.500000    2220.000000"
            ],
            "text/html": [
              "\n",
              "  <div id=\"df-97ce86d9-c52f-4d18-b8c9-b1f8061cb950\">\n",
              "    <div class=\"colab-df-container\">\n",
              "      <div>\n",
              "<style scoped>\n",
              "    .dataframe tbody tr th:only-of-type {\n",
              "        vertical-align: middle;\n",
              "    }\n",
              "\n",
              "    .dataframe tbody tr th {\n",
              "        vertical-align: top;\n",
              "    }\n",
              "\n",
              "    .dataframe thead th {\n",
              "        text-align: right;\n",
              "    }\n",
              "</style>\n",
              "<table border=\"1\" class=\"dataframe\">\n",
              "  <thead>\n",
              "    <tr style=\"text-align: right;\">\n",
              "      <th></th>\n",
              "      <th>Cost in Rs. (CR)</th>\n",
              "      <th>Cost in $ (K)</th>\n",
              "    </tr>\n",
              "  </thead>\n",
              "  <tbody>\n",
              "    <tr>\n",
              "      <th>count</th>\n",
              "      <td>243.000000</td>\n",
              "      <td>243.000000</td>\n",
              "    </tr>\n",
              "    <tr>\n",
              "      <th>mean</th>\n",
              "      <td>0.687243</td>\n",
              "      <td>82.469136</td>\n",
              "    </tr>\n",
              "    <tr>\n",
              "      <th>std</th>\n",
              "      <td>2.511700</td>\n",
              "      <td>301.404032</td>\n",
              "    </tr>\n",
              "    <tr>\n",
              "      <th>min</th>\n",
              "      <td>0.000000</td>\n",
              "      <td>0.000000</td>\n",
              "    </tr>\n",
              "    <tr>\n",
              "      <th>25%</th>\n",
              "      <td>0.000000</td>\n",
              "      <td>0.000000</td>\n",
              "    </tr>\n",
              "    <tr>\n",
              "      <th>50%</th>\n",
              "      <td>0.000000</td>\n",
              "      <td>0.000000</td>\n",
              "    </tr>\n",
              "    <tr>\n",
              "      <th>75%</th>\n",
              "      <td>0.200000</td>\n",
              "      <td>24.000000</td>\n",
              "    </tr>\n",
              "    <tr>\n",
              "      <th>max</th>\n",
              "      <td>18.500000</td>\n",
              "      <td>2220.000000</td>\n",
              "    </tr>\n",
              "  </tbody>\n",
              "</table>\n",
              "</div>\n",
              "      <button class=\"colab-df-convert\" onclick=\"convertToInteractive('df-97ce86d9-c52f-4d18-b8c9-b1f8061cb950')\"\n",
              "              title=\"Convert this dataframe to an interactive table.\"\n",
              "              style=\"display:none;\">\n",
              "        \n",
              "  <svg xmlns=\"http://www.w3.org/2000/svg\" height=\"24px\"viewBox=\"0 0 24 24\"\n",
              "       width=\"24px\">\n",
              "    <path d=\"M0 0h24v24H0V0z\" fill=\"none\"/>\n",
              "    <path d=\"M18.56 5.44l.94 2.06.94-2.06 2.06-.94-2.06-.94-.94-2.06-.94 2.06-2.06.94zm-11 1L8.5 8.5l.94-2.06 2.06-.94-2.06-.94L8.5 2.5l-.94 2.06-2.06.94zm10 10l.94 2.06.94-2.06 2.06-.94-2.06-.94-.94-2.06-.94 2.06-2.06.94z\"/><path d=\"M17.41 7.96l-1.37-1.37c-.4-.4-.92-.59-1.43-.59-.52 0-1.04.2-1.43.59L10.3 9.45l-7.72 7.72c-.78.78-.78 2.05 0 2.83L4 21.41c.39.39.9.59 1.41.59.51 0 1.02-.2 1.41-.59l7.78-7.78 2.81-2.81c.8-.78.8-2.07 0-2.86zM5.41 20L4 18.59l7.72-7.72 1.47 1.35L5.41 20z\"/>\n",
              "  </svg>\n",
              "      </button>\n",
              "      \n",
              "  <style>\n",
              "    .colab-df-container {\n",
              "      display:flex;\n",
              "      flex-wrap:wrap;\n",
              "      gap: 12px;\n",
              "    }\n",
              "\n",
              "    .colab-df-convert {\n",
              "      background-color: #E8F0FE;\n",
              "      border: none;\n",
              "      border-radius: 50%;\n",
              "      cursor: pointer;\n",
              "      display: none;\n",
              "      fill: #1967D2;\n",
              "      height: 32px;\n",
              "      padding: 0 0 0 0;\n",
              "      width: 32px;\n",
              "    }\n",
              "\n",
              "    .colab-df-convert:hover {\n",
              "      background-color: #E2EBFA;\n",
              "      box-shadow: 0px 1px 2px rgba(60, 64, 67, 0.3), 0px 1px 3px 1px rgba(60, 64, 67, 0.15);\n",
              "      fill: #174EA6;\n",
              "    }\n",
              "\n",
              "    [theme=dark] .colab-df-convert {\n",
              "      background-color: #3B4455;\n",
              "      fill: #D2E3FC;\n",
              "    }\n",
              "\n",
              "    [theme=dark] .colab-df-convert:hover {\n",
              "      background-color: #434B5C;\n",
              "      box-shadow: 0px 1px 3px 1px rgba(0, 0, 0, 0.15);\n",
              "      filter: drop-shadow(0px 1px 2px rgba(0, 0, 0, 0.3));\n",
              "      fill: #FFFFFF;\n",
              "    }\n",
              "  </style>\n",
              "\n",
              "      <script>\n",
              "        const buttonEl =\n",
              "          document.querySelector('#df-97ce86d9-c52f-4d18-b8c9-b1f8061cb950 button.colab-df-convert');\n",
              "        buttonEl.style.display =\n",
              "          google.colab.kernel.accessAllowed ? 'block' : 'none';\n",
              "\n",
              "        async function convertToInteractive(key) {\n",
              "          const element = document.querySelector('#df-97ce86d9-c52f-4d18-b8c9-b1f8061cb950');\n",
              "          const dataTable =\n",
              "            await google.colab.kernel.invokeFunction('convertToInteractive',\n",
              "                                                     [key], {});\n",
              "          if (!dataTable) return;\n",
              "\n",
              "          const docLinkHtml = 'Like what you see? Visit the ' +\n",
              "            '<a target=\"_blank\" href=https://colab.research.google.com/notebooks/data_table.ipynb>data table notebook</a>'\n",
              "            + ' to learn more about interactive tables.';\n",
              "          element.innerHTML = '';\n",
              "          dataTable['output_type'] = 'display_data';\n",
              "          await google.colab.output.renderOutput(dataTable, element);\n",
              "          const docLink = document.createElement('div');\n",
              "          docLink.innerHTML = docLinkHtml;\n",
              "          element.appendChild(docLink);\n",
              "        }\n",
              "      </script>\n",
              "    </div>\n",
              "  </div>\n",
              "  "
            ]
          },
          "metadata": {},
          "execution_count": 13
        }
      ]
    },
    {
      "cell_type": "code",
      "source": [
        "ipl.describe(include=\"object\")"
      ],
      "metadata": {
        "colab": {
          "base_uri": "https://localhost:8080/",
          "height": 175
        },
        "id": "ik_sw7UndJcz",
        "outputId": "f257f23f-92b7-4b26-cc3d-568d289fc1ff"
      },
      "execution_count": null,
      "outputs": [
        {
          "output_type": "execute_result",
          "data": {
            "text/plain": [
              "        Player Name Base Price         Type 2022 Squad 2023 Squad\n",
              "count           568        568          568        230        568\n",
              "unique          565         10            4         10         11\n",
              "top     Akash Singh    2000000  ALL-ROUNDER         MI     Unsold\n",
              "freq              2        274          213         28        325"
            ],
            "text/html": [
              "\n",
              "  <div id=\"df-06afc81b-f694-4513-af2a-f7cbc7c6d468\">\n",
              "    <div class=\"colab-df-container\">\n",
              "      <div>\n",
              "<style scoped>\n",
              "    .dataframe tbody tr th:only-of-type {\n",
              "        vertical-align: middle;\n",
              "    }\n",
              "\n",
              "    .dataframe tbody tr th {\n",
              "        vertical-align: top;\n",
              "    }\n",
              "\n",
              "    .dataframe thead th {\n",
              "        text-align: right;\n",
              "    }\n",
              "</style>\n",
              "<table border=\"1\" class=\"dataframe\">\n",
              "  <thead>\n",
              "    <tr style=\"text-align: right;\">\n",
              "      <th></th>\n",
              "      <th>Player Name</th>\n",
              "      <th>Base Price</th>\n",
              "      <th>Type</th>\n",
              "      <th>2022 Squad</th>\n",
              "      <th>2023 Squad</th>\n",
              "    </tr>\n",
              "  </thead>\n",
              "  <tbody>\n",
              "    <tr>\n",
              "      <th>count</th>\n",
              "      <td>568</td>\n",
              "      <td>568</td>\n",
              "      <td>568</td>\n",
              "      <td>230</td>\n",
              "      <td>568</td>\n",
              "    </tr>\n",
              "    <tr>\n",
              "      <th>unique</th>\n",
              "      <td>565</td>\n",
              "      <td>10</td>\n",
              "      <td>4</td>\n",
              "      <td>10</td>\n",
              "      <td>11</td>\n",
              "    </tr>\n",
              "    <tr>\n",
              "      <th>top</th>\n",
              "      <td>Akash Singh</td>\n",
              "      <td>2000000</td>\n",
              "      <td>ALL-ROUNDER</td>\n",
              "      <td>MI</td>\n",
              "      <td>Unsold</td>\n",
              "    </tr>\n",
              "    <tr>\n",
              "      <th>freq</th>\n",
              "      <td>2</td>\n",
              "      <td>274</td>\n",
              "      <td>213</td>\n",
              "      <td>28</td>\n",
              "      <td>325</td>\n",
              "    </tr>\n",
              "  </tbody>\n",
              "</table>\n",
              "</div>\n",
              "      <button class=\"colab-df-convert\" onclick=\"convertToInteractive('df-06afc81b-f694-4513-af2a-f7cbc7c6d468')\"\n",
              "              title=\"Convert this dataframe to an interactive table.\"\n",
              "              style=\"display:none;\">\n",
              "        \n",
              "  <svg xmlns=\"http://www.w3.org/2000/svg\" height=\"24px\"viewBox=\"0 0 24 24\"\n",
              "       width=\"24px\">\n",
              "    <path d=\"M0 0h24v24H0V0z\" fill=\"none\"/>\n",
              "    <path d=\"M18.56 5.44l.94 2.06.94-2.06 2.06-.94-2.06-.94-.94-2.06-.94 2.06-2.06.94zm-11 1L8.5 8.5l.94-2.06 2.06-.94-2.06-.94L8.5 2.5l-.94 2.06-2.06.94zm10 10l.94 2.06.94-2.06 2.06-.94-2.06-.94-.94-2.06-.94 2.06-2.06.94z\"/><path d=\"M17.41 7.96l-1.37-1.37c-.4-.4-.92-.59-1.43-.59-.52 0-1.04.2-1.43.59L10.3 9.45l-7.72 7.72c-.78.78-.78 2.05 0 2.83L4 21.41c.39.39.9.59 1.41.59.51 0 1.02-.2 1.41-.59l7.78-7.78 2.81-2.81c.8-.78.8-2.07 0-2.86zM5.41 20L4 18.59l7.72-7.72 1.47 1.35L5.41 20z\"/>\n",
              "  </svg>\n",
              "      </button>\n",
              "      \n",
              "  <style>\n",
              "    .colab-df-container {\n",
              "      display:flex;\n",
              "      flex-wrap:wrap;\n",
              "      gap: 12px;\n",
              "    }\n",
              "\n",
              "    .colab-df-convert {\n",
              "      background-color: #E8F0FE;\n",
              "      border: none;\n",
              "      border-radius: 50%;\n",
              "      cursor: pointer;\n",
              "      display: none;\n",
              "      fill: #1967D2;\n",
              "      height: 32px;\n",
              "      padding: 0 0 0 0;\n",
              "      width: 32px;\n",
              "    }\n",
              "\n",
              "    .colab-df-convert:hover {\n",
              "      background-color: #E2EBFA;\n",
              "      box-shadow: 0px 1px 2px rgba(60, 64, 67, 0.3), 0px 1px 3px 1px rgba(60, 64, 67, 0.15);\n",
              "      fill: #174EA6;\n",
              "    }\n",
              "\n",
              "    [theme=dark] .colab-df-convert {\n",
              "      background-color: #3B4455;\n",
              "      fill: #D2E3FC;\n",
              "    }\n",
              "\n",
              "    [theme=dark] .colab-df-convert:hover {\n",
              "      background-color: #434B5C;\n",
              "      box-shadow: 0px 1px 3px 1px rgba(0, 0, 0, 0.15);\n",
              "      filter: drop-shadow(0px 1px 2px rgba(0, 0, 0, 0.3));\n",
              "      fill: #FFFFFF;\n",
              "    }\n",
              "  </style>\n",
              "\n",
              "      <script>\n",
              "        const buttonEl =\n",
              "          document.querySelector('#df-06afc81b-f694-4513-af2a-f7cbc7c6d468 button.colab-df-convert');\n",
              "        buttonEl.style.display =\n",
              "          google.colab.kernel.accessAllowed ? 'block' : 'none';\n",
              "\n",
              "        async function convertToInteractive(key) {\n",
              "          const element = document.querySelector('#df-06afc81b-f694-4513-af2a-f7cbc7c6d468');\n",
              "          const dataTable =\n",
              "            await google.colab.kernel.invokeFunction('convertToInteractive',\n",
              "                                                     [key], {});\n",
              "          if (!dataTable) return;\n",
              "\n",
              "          const docLinkHtml = 'Like what you see? Visit the ' +\n",
              "            '<a target=\"_blank\" href=https://colab.research.google.com/notebooks/data_table.ipynb>data table notebook</a>'\n",
              "            + ' to learn more about interactive tables.';\n",
              "          element.innerHTML = '';\n",
              "          dataTable['output_type'] = 'display_data';\n",
              "          await google.colab.output.renderOutput(dataTable, element);\n",
              "          const docLink = document.createElement('div');\n",
              "          docLink.innerHTML = docLinkHtml;\n",
              "          element.appendChild(docLink);\n",
              "        }\n",
              "      </script>\n",
              "    </div>\n",
              "  </div>\n",
              "  "
            ]
          },
          "metadata": {},
          "execution_count": 14
        }
      ]
    },
    {
      "cell_type": "code",
      "source": [
        "for col in ipl.describe(include=\"object\").columns :\n",
        "    print(col)\n",
        "    print(ipl[col].unique())\n",
        "    print(\"***\"*40)"
      ],
      "metadata": {
        "colab": {
          "base_uri": "https://localhost:8080/"
        },
        "id": "I3MoGdPRdbF-",
        "outputId": "21840ff5-647b-49d6-d274-7a28b5c0eef2"
      },
      "execution_count": null,
      "outputs": [
        {
          "output_type": "stream",
          "name": "stdout",
          "text": [
            "Player Name\n",
            "['Shivam Mavi' 'Joshua Little' 'Kane Williamson' 'K.S. Bharat'\n",
            " 'Mohit Sharma' 'Odean Smith' 'Urvil Patel' 'Rahul Tewatia'\n",
            " 'Pradeep Sangwan' 'Rashid Khan' 'R. Sai Kishore' 'Yash Dayal'\n",
            " 'Noor Ahmad' 'Wriddhiman Saha' 'Vijay Shankar' 'Shubman Gill'\n",
            " 'Hardik Pandya' 'B. Sai Sudharsan' 'Alzarri Joseph' 'Abhinav Sadarangani'\n",
            " 'Darshan Nalkande' 'David Miller' 'Matthew Wade' 'Jayant Yadav'\n",
            " 'Mohammad Shami' 'Ben Stokes' 'Kyle Jamieson' 'Nishant Sindhu'\n",
            " 'Ajinkya Rahane' 'Bhagath Varma' 'Ajay Mandal' 'Shaik Rasheed'\n",
            " 'Ravindra Jadeja' 'Rajvardhan Hangargekar' 'Prashant Solanki'\n",
            " 'Ruturaj Gaikwad' 'Tushar Deshpande' 'Mukesh Choudhary'\n",
            " 'Subhranshu Senapati' 'Simarjeet Singh' 'Shivam Dube'\n",
            " 'Matheesha Pathirana' 'Devon Conway' 'Deepak Chahar' 'Ambati Rayudu'\n",
            " 'Dwaine Pretorius' 'Maheesh Theekshana' 'Moeen Ali' 'Mitchell Santner'\n",
            " 'MS Dhoni' 'Mukesh Kumar' 'Rilee Rossouw' 'Manish Pandey' 'Phil Salt'\n",
            " 'Ishant Sharma' 'Ripal Patel' 'Pravin Dubey' 'Rishabh Pant'\n",
            " 'Prithvi Shaw' 'Syed Khaleel Ahmed' 'Yash Dhull' 'Vicky Ostwal'\n",
            " 'Mustafizur Rahman' 'Sarfaraz Khan' 'Rovman Powell' 'Lalit Yadav'\n",
            " 'Axar Patel' 'Anrich Nortje' 'Aman Khan (T)' 'Chetan Sakariya'\n",
            " 'David Warner' 'Lungisani Ngidi' 'Kuldeep Yadav' 'Kamlesh Nagarkoti'\n",
            " 'Mitchell Marsh' 'Shakib Al Hasan' 'David Wiese' 'N. Jagadeesan'\n",
            " 'Vaibhav Arora' 'Litton Das' 'Mandeep Singh' 'Kulwant Khejroliya'\n",
            " 'Suyash Sharma' 'Sunil Narine' 'Shreyas Iyer' 'Tim Southee' 'Umesh Yadav'\n",
            " 'Varun Chakaravarthy' 'Shardul Thakur (T)' 'Venkatesh Iyer'\n",
            " 'Harshit Rana' 'Anukul Roy' 'Andre Russell' 'Lockie Ferguson (T)'\n",
            " 'Nitish Rana' 'Rahmanullah Gurbaz (T)' 'Rinku Singh' 'Sam Curran'\n",
            " 'Sikandar Raza' 'Harpreet Bhatia' 'Mohit Rathee' 'Vidwath Kaverappa'\n",
            " 'Shivam Singh' 'Liam Livingstone' 'Baltej Singh Dhanda' 'Atharva Taide'\n",
            " 'Bhanuka Rajapakse' 'Jitesh Sharma' 'Nathan Ellis' 'Jonny Bairstow'\n",
            " 'Kagiso Rabada' 'Harpreet Brar' 'Shahrukh Khan' 'Shikhar Dhawan'\n",
            " 'Rahul Chahar' 'Arshdeep Singh' 'Prabhsimran Singh' 'Raj Angad Bawa'\n",
            " 'Rishi Dhawan' 'Nicholas Pooran' 'Daniel Sams' 'Jaydev Unadkat'\n",
            " 'Naveen Ul Haq' 'Amit Mishra' 'Romario Shepherd' 'Yash Thakur'\n",
            " 'Swapnil Singh' 'Yudhvir Charak' 'Prerak Mankad' 'Mark Wood'\n",
            " 'Marcus Stoinis' 'Mayank Yadav' 'Mohsin Khan' 'Quinton De Kock'\n",
            " 'Manan Vohra' 'Ravi Bishnoi' 'Deepak Hooda' 'Ayush Badoni' 'Avesh Khan'\n",
            " 'K. Gowtham' 'Karan Sharma' 'Krunal Pandya' 'KL Rahul' 'Kyle Mayers'\n",
            " 'Cameron Green' 'Jhye Richardson' 'Piyush Chawla' 'Raghav Goyal'\n",
            " 'Shams Mulani' 'Nehal Wadhera' 'Vishnu Vinod' 'Duan Jansen'\n",
            " 'Ramandeep Singh' 'N. Tilak Varma' 'Mohd. Arshad Khan' 'Rohit Sharma'\n",
            " 'Suryakumar Yadav' 'Kumar Kartikeya Singh' 'Tristan Stubbs*' 'Tim David'\n",
            " 'Hrithik Shokeen' 'Arjun Tendulkar' 'Akash Madhwal' 'Dewald Brevis'\n",
            " 'Ishan Kishan' 'Jasprit Bumrah' 'Jason Behrendorff (T)' 'Jofra Archer'\n",
            " 'Will Jacks' 'Reece Topley' 'Rajan Kumar' 'Avinash Singh'\n",
            " 'Manoj Bhandage' 'Sonu Yadav' 'Himanshu Sharma' 'Rajat Patidar'\n",
            " 'Mahipal Lomror' 'Shahbaz Ahamad' 'Mohammed Siraj' 'Wanindu Hasaranga'\n",
            " 'Karn Sharma' 'Virat Kohli' 'Suyash Prabhudessai' 'Siddharth Kaul'\n",
            " 'Finn Allen' 'David Willey' 'Anuj Rawat' 'Akash Deep' 'Dinesh Karthik'\n",
            " 'Faf Du Plessis' 'Harshal Patel' 'Glenn Maxwell' 'Josh Hazlewood'\n",
            " 'Jason Holder' 'Adam Zampa' 'Joe Root' 'Donovan Ferreira' 'K.M. Asif'\n",
            " 'Kunal Rathore' 'Abdul P A' 'Akash Vashisht' 'Murugan Ashwin'\n",
            " 'Sanju Samson' 'Riyan Parag' 'R. Ashwin' 'Shimron Hetmyer' 'Trent Boult'\n",
            " 'Prasidh Krishna' 'Yuzvendra Chahal' 'Yashasvi Jaiswal' 'K.C Cariappa'\n",
            " 'Dhruv Jurel' 'Devdutt Padikkal' 'Jos Buttler' 'Kuldeep Sen'\n",
            " 'Navdeep Saini' 'Kuldip Yadav' 'Obed Mccoy' 'Harry Brook'\n",
            " 'Mayank Agarwal' 'Heinrich Klaasen' 'Vivrant Sharma' 'Adil Rashid'\n",
            " 'Mayank Dagar' 'Akeal Hosein' 'Mayank Markande' 'Upendra Singh Yadav'\n",
            " 'Nitish Kumar Reddy' 'Samarth Vyas' 'Anmolpreet Singh' 'Sanvir Singh'\n",
            " 'Marco Jansen' 'Rahul Tripathi' 'Umran Malik' 'Washington Sundar'\n",
            " 'Kartik Tyagi' 'T. Natarajan' 'Fazalhaq Farooqi' 'Abdul Samad'\n",
            " 'Abhishek Sharma' 'Aiden Markram' 'Bhuvneshwar Kumar' 'Glenn Phillips'\n",
            " 'Tom Banton' 'Kusal Mendis' 'Chris Jordan' 'Adam Milne' 'Mujeeb Rahman'\n",
            " 'Tabraiz Shamsi' 'Shubham Khajuria' 'Rohan Kunnummal' 'Chethan L.R.'\n",
            " 'Himmat Singh' 'Corbin Bosch' 'Priyam Garg' 'Saurabh Kumar'\n",
            " 'Shashank Singh' 'Mohammed Azharuddeen' 'Dinesh Bana'\n",
            " 'Abhimanyu Easwaran' 'Sumit Kumar' 'Lance Morris' 'Mujtaba Yousuf'\n",
            " 'Chintal Gandhi' 'Shreyas Gopal' 'S Midhun' 'Izharulhuq Naveed'\n",
            " 'Travis Head' 'Dawid Malan' 'Sherfane Rutherford' 'Paul Stirling'\n",
            " 'Rassie Van Der Dussen' 'Daryl Mitchell' 'Mohammad Nabi' 'Jimmy Neesham'\n",
            " 'Wayne Parnell' 'Dasun Shanaka' 'Taskin Ahmed' 'Dushmanta Chameera'\n",
            " 'Riley Meredith' 'Blessing Muzarabani' 'Sandeep Sharma' 'Johnson Charles'\n",
            " 'Andre Fletcher' 'Shai Hope' 'Tom Latham' 'Joshua Philippe'\n",
            " 'Lorcan Tucker' 'Shahbaz Nadeem' 'Ish Sodhi' 'Sachin Baby'\n",
            " 'Ashwin Hebbar' 'Pukhraj Mann' 'Akshat Raghuwanshi' 'Himanshu Rana'\n",
            " 'Shoun Roger' 'Virat Singh' 'Will Smeed' 'Apoorv Wankhade'\n",
            " 'Gerald Coetzee' 'Evan Jones' 'Abid Mushtaq' 'Suryansh Shedge'\n",
            " 'Jagadeesha Suchith' 'Ricky Bhui' 'Baba Indrajith' 'Sheldon Jackson'\n",
            " 'Aryan Juyal' 'Kirant Shinde' 'Luvnith Sisodia' 'Vishnu Solanki'\n",
            " 'Aniket Choudhary' 'Ravi Kumar' 'Sushant Mishra' 'Arzan Nagwaswalla'\n",
            " 'Ishan Porel' 'Akash Singh' 'Basil Thampi' 'Paul Van Meekeren'\n",
            " 'Vyshak Vijay Kumar' 'S.Ajith Ram' 'Satyajeet Bachhav' 'Tejas Baroka'\n",
            " 'Yuvraj Chudasama' 'Peter Hatzoglou' 'Karthik Meiyappan' 'Shivam Sharma'\n",
            " 'Reeza Hendricks' 'Christiaan Jonker' 'Brandon King' 'Chris Lynn'\n",
            " 'Karun Nair' 'Pathum Nissaanka' 'Jason Roy' 'Gurkeerat Singh'\n",
            " 'Harry Tector' 'Najibullah Zadran' 'Sean Abbott' 'Qais Ahmad'\n",
            " 'Charith Asalanka' 'Michael Bracewell' 'Dominic Drakes' 'George Garton'\n",
            " 'Chamika Karunaratne' 'Jamie Overton' 'Sandeep Warrier' 'Ben Dwarshuis'\n",
            " 'Richard Gleeson' 'Lahiru Kumara' 'Dilshan Madushanka' 'Billy Stanlake'\n",
            " 'Andrew Tye' 'Luke Wood' 'Priyansh Arya' 'Matthew Breetzke'\n",
            " 'Shivam Chauhan' 'Rahul Gahlaut' 'Sudip Gharami' 'C. Hari Nishaanth'\n",
            " 'Amandeep Khare' 'Bhanu Pania' 'Ekant Sen' 'Himanshu Bisht'\n",
            " 'Mickil Jaiswal' 'G.Aniketh Reddy' 'Atit Sheth' 'M. Siddharth'\n",
            " 'Tanay Thyagarajann' 'Sumeet Verma' 'Sanjay Yadav' 'Ajitesh Guruswamy'\n",
            " 'Yash Kothari' 'Suresh Kumar' 'Kumar Kushagra' 'Anmol Malhotra'\n",
            " 'Robin Minz' 'Agniv Pan' 'Priyesh Patel' 'Mitesh Patel' 'Abishek Porel'\n",
            " 'Bharat Sharma' 'Vivek Singh' 'Abhijeet Tomar' 'Basit Bashir'\n",
            " 'Nandre Burger' 'Rasikh Dar' 'Sakib Hussain' 'Waseem Khanday'\n",
            " 'Ravi Kiran Majeti' 'Lukman Hussain Meriwala' 'Anuj Raj'\n",
            " 'Ankit Singh Rajpoot' 'Prince Yadav' 'Prithviraj Yarra' 'Mushtaq Beg'\n",
            " 'Rocky Bhasker' 'Sanjith Devaraj' 'Allah Mohammad' 'Lalit Mohan'\n",
            " 'Bhuwan Rohilla' 'Aman Sharma' 'Manav Suthar' 'Tom Curran'\n",
            " 'Moises Henriques' 'Afif Hossain' 'Scott Kuggeleijn' 'Sisanda Magala'\n",
            " 'Craig Overton' 'Darcy Short' 'Dhananjaya Silva' 'Dunith Wellalage'\n",
            " 'Varun Aaron' 'Sheldon Cottrel' 'Nathan Coulter-Nile' 'Daryn Dupavillon'\n",
            " 'Matt Henry' 'Dhawal Kulkarni' 'Tymal Mills' 'David Payne'\n",
            " 'Barinder Sran' 'Glenton Stuurman' 'Anirudh Balachander'\n",
            " 'Gourav Choudhary' 'Saurav Chuahan' 'Kumar Deobrat' 'Chirag Gandhi'\n",
            " 'Arman Jaffer' 'Madhav Kaushik' 'Priyank Panchal' 'Ayush Pandey'\n",
            " 'Rohan Patil' 'Sanjay Ramaswamy' 'Siddharth Yadav' 'Rehan Ahmed'\n",
            " 'Prayas Barman' 'Rahul Buddhi' 'Vaisakh Chandran' 'Writtick Chatterjee'\n",
            " 'Prashant Chopra' 'Harsh Dubey' 'Tanush Kotian' 'Ninad Rathva' 'B. Surya'\n",
            " 'Jordan Thompson' 'Shivank Vashisth' 'Ankush Bains'\n",
            " 'Christopher Benjamin' 'Connor Esterhuizen' 'Mohd Arslan Khan'\n",
            " 'Mamidi Krishna' 'Fazil Makaya' 'Akshdeep Nath' 'Deepak Punia'\n",
            " 'Ateev Saini' 'Bipin Saurabh' 'B.R. Sharath' 'Yashovardhan Singh'\n",
            " 'Lakshay Thareja' 'Mohit Avasthi' 'Ottneil Baartman' 'Gurnoor Singh Brar'\n",
            " 'Shahrukh Dar' 'Thomas Helm' 'Pankaj Jaswal' 'Venkatesh Muralidhara'\n",
            " 'Geet Puri' 'E. Sanketh' 'Ajay Sarkar' 'Ashok Sharma' 'Kanwar Singh'\n",
            " 'Fabian Allen' 'Carlos Brathwaite' 'Roston Chase' 'Rahkeem Cornwall'\n",
            " 'Karim Janat' 'Keshav Maharaj' 'Pawan Negi' 'Keemo Paul'\n",
            " 'Shivam Chaudhary' 'Ashwin Das' 'James Fuller' 'Chirag Jani'\n",
            " 'Akshay Karnewar' 'Bhagmender Lather' 'Lone Muzaffar' 'Pulkit Narang'\n",
            " 'Rohit Rayudu' 'Sameer Rizvi' 'Tunish Sawkar' 'Auqib Dar'\n",
            " 'Mukhtar Hussain' 'Ashwani Kumar' 'Hemant Kumar' 'Nathan McAndrew'\n",
            " 'Rajesh Mohanty' 'Ravi Sharma' 'Vikash Singh' 'Ruben Trumpelmann'\n",
            " 'Koushik Vasuki' 'Vasu Vats' 'Shubham Agrawal' 'Baba Aparajith'\n",
            " 'Anshul Kamboj' 'Azim Kazi' 'Dev Lakra' 'Jitender Pal'\n",
            " 'Ritwik Roy Chowdhury' 'Utkarsh Singh' 'Shubham Singh' 'Avneesh Sudha'\n",
            " 'Asad Jamil Ahmed' 'Bandaru Ayyappa' 'Aashish Bhatt' 'McKenny Clarke'\n",
            " 'Shubham Kapse' 'Gourav Koul' 'Raunak Kumar' 'Trilok Nag'\n",
            " 'Atal Bihari Rai' 'Ramon Simmonds' 'Rajeev Singh' 'Mohd. Wasim'\n",
            " 'Atharva Ankolekar' 'Khizar Dafedar' 'Naman Dhir' 'Sahil Dhiwan'\n",
            " 'Sampark Gupta' 'Jordan Hermann' 'Hayden Kerr' 'Salman Khan'\n",
            " 'Sairaj Patil' 'Divyaansh Saxena' 'Purnank Tyagi' 'Deepraj Gaonkar'\n",
            " 'Shubham Garhwal' 'Benny Howell' 'Deepesh Nailwal' 'Arjun Rapria'\n",
            " 'Shashwat Rawat' 'Sumit Ruikar' 'Rajandeep Singh' 'Anunay Singh'\n",
            " 'Digvesh Singh' 'Pranshu Vijayran' 'Prerit Dutta' 'Ramakrishna Ghosh'\n",
            " 'Shubhang Hegde' 'Shamshuzama Kazi' 'Ayaz Khan' 'Amit Pachhara'\n",
            " 'Akul Pandove' 'Garv Sangwan' 'Shubham Sharma' 'Amit Yadav' 'Amit Ali'\n",
            " 'Rishabh Chauhan' 'Matthew Forde' 'Sammar Gajjar' 'Rajneesh Gurbani'\n",
            " 'Divyansh Joshi' 'Dhruv Patel' 'Jack Prestwidge' 'Aditya Sarvate'\n",
            " 'Sagar Solanki' 'Prenelan Subrayen']\n",
            "************************************************************************************************************************\n",
            "Base Price\n",
            "['4000000' '5000000' '20000000' '2000000' 'Retained' '10000000' '1500000'\n",
            " '7500000' '3000000' '15000000']\n",
            "************************************************************************************************************************\n",
            "Type\n",
            "['BOWLER' 'BATSMAN' 'WICKETKEEPER' 'ALL-ROUNDER']\n",
            "************************************************************************************************************************\n",
            "2022 Squad\n",
            "['KKR' nan 'SRH' 'DC' 'PBKS' 'GT' 'CSK' 'LSG' 'MI' 'RCB' 'RR']\n",
            "************************************************************************************************************************\n",
            "2023 Squad\n",
            "['GT' 'CSK' 'DC' 'KKR' 'PBKS' 'LSG' 'MI' 'RCB' 'RR' 'SRH' 'Unsold']\n",
            "************************************************************************************************************************\n"
          ]
        }
      ]
    },
    {
      "cell_type": "code",
      "source": [
        "# checking null values\n",
        "ipl.isnull().sum()"
      ],
      "metadata": {
        "colab": {
          "base_uri": "https://localhost:8080/"
        },
        "id": "81QtKTccdiO_",
        "outputId": "6eb549d0-70e8-43cd-956c-4b3210af26bf"
      },
      "execution_count": null,
      "outputs": [
        {
          "output_type": "execute_result",
          "data": {
            "text/plain": [
              "Player Name           0\n",
              "Base Price            0\n",
              "Type                  0\n",
              "Cost in Rs. (CR)    325\n",
              "Cost in $ (K)       325\n",
              "2022 Squad          338\n",
              "2023 Squad            0\n",
              "dtype: int64"
            ]
          },
          "metadata": {},
          "execution_count": 16
        }
      ]
    },
    {
      "cell_type": "code",
      "source": [
        "#price cr column has null values , filling the empty cells with mean price cr value\n",
        "ipl[\"Cost in Rs. (CR)\"].fillna(ipl[\"Cost in Rs. (CR)\"].mean(),inplace=True)"
      ],
      "metadata": {
        "id": "k2FtofWld3f-"
      },
      "execution_count": null,
      "outputs": []
    },
    {
      "cell_type": "code",
      "source": [
        "ipl.isnull().sum()"
      ],
      "metadata": {
        "colab": {
          "base_uri": "https://localhost:8080/"
        },
        "id": "p-P6Kp5IeNue",
        "outputId": "dd4c8e4a-9327-4cc2-e144-c932e3ec3f39"
      },
      "execution_count": null,
      "outputs": [
        {
          "output_type": "execute_result",
          "data": {
            "text/plain": [
              "Player Name           0\n",
              "Base Price            0\n",
              "Type                  0\n",
              "Cost in Rs. (CR)      0\n",
              "Cost in $ (K)       325\n",
              "2022 Squad          338\n",
              "2023 Squad            0\n",
              "dtype: int64"
            ]
          },
          "metadata": {},
          "execution_count": 19
        }
      ]
    },
    {
      "cell_type": "code",
      "source": [
        "#price $ column has null values , filling the empty cells with mean price $ value\n",
        "ipl[\"Cost in $ (K)\"].fillna(ipl[\"Cost in $ (K)\"].mean(),inplace=True)"
      ],
      "metadata": {
        "id": "0FhCzEI9eZ2l"
      },
      "execution_count": null,
      "outputs": []
    },
    {
      "cell_type": "code",
      "source": [
        "ipl.isnull().sum()"
      ],
      "metadata": {
        "colab": {
          "base_uri": "https://localhost:8080/"
        },
        "id": "SyV15AUIexMG",
        "outputId": "4b8516b0-94fb-47f5-fe38-7a38f7a06a15"
      },
      "execution_count": null,
      "outputs": [
        {
          "output_type": "execute_result",
          "data": {
            "text/plain": [
              "Player Name           0\n",
              "Base Price            0\n",
              "Type                  0\n",
              "Cost in Rs. (CR)      0\n",
              "Cost in $ (K)         0\n",
              "2022 Squad          338\n",
              "2023 Squad            0\n",
              "dtype: int64"
            ]
          },
          "metadata": {},
          "execution_count": 22
        }
      ]
    },
    {
      "cell_type": "code",
      "source": [
        "#checking duplicate values\n",
        "ipl.duplicated().sum()"
      ],
      "metadata": {
        "colab": {
          "base_uri": "https://localhost:8080/"
        },
        "id": "aElV644-fEO2",
        "outputId": "ca320a00-3fd5-468b-8a9c-510e67cb5793"
      },
      "execution_count": null,
      "outputs": [
        {
          "output_type": "execute_result",
          "data": {
            "text/plain": [
              "0"
            ]
          },
          "metadata": {},
          "execution_count": 23
        }
      ]
    },
    {
      "cell_type": "markdown",
      "source": [
        "#Data Analysis\n"
      ],
      "metadata": {
        "id": "iYpXMPl8fKiy"
      }
    },
    {
      "cell_type": "code",
      "source": [
        "ipl.head()"
      ],
      "metadata": {
        "colab": {
          "base_uri": "https://localhost:8080/",
          "height": 206
        },
        "id": "69kQJ6oqfSL0",
        "outputId": "45b05bb8-0175-4f83-e61e-0399d7d96618"
      },
      "execution_count": null,
      "outputs": [
        {
          "output_type": "execute_result",
          "data": {
            "text/plain": [
              "       Player Name Base Price          Type  Cost in Rs. (CR)  Cost in $ (K)  \\\n",
              "0      Shivam Mavi    4000000        BOWLER               6.0          720.0   \n",
              "1    Joshua Little    5000000        BOWLER               4.4          528.0   \n",
              "2  Kane Williamson   20000000       BATSMAN               2.0          240.0   \n",
              "3      K.S. Bharat    2000000  WICKETKEEPER               1.2          144.0   \n",
              "4     Mohit Sharma    5000000        BOWLER               0.5           60.0   \n",
              "\n",
              "  2022 Squad 2023 Squad  \n",
              "0        KKR         GT  \n",
              "1        NaN         GT  \n",
              "2        SRH         GT  \n",
              "3         DC         GT  \n",
              "4        NaN         GT  "
            ],
            "text/html": [
              "\n",
              "  <div id=\"df-50a710a9-4e32-4891-8191-c73c539df1f6\">\n",
              "    <div class=\"colab-df-container\">\n",
              "      <div>\n",
              "<style scoped>\n",
              "    .dataframe tbody tr th:only-of-type {\n",
              "        vertical-align: middle;\n",
              "    }\n",
              "\n",
              "    .dataframe tbody tr th {\n",
              "        vertical-align: top;\n",
              "    }\n",
              "\n",
              "    .dataframe thead th {\n",
              "        text-align: right;\n",
              "    }\n",
              "</style>\n",
              "<table border=\"1\" class=\"dataframe\">\n",
              "  <thead>\n",
              "    <tr style=\"text-align: right;\">\n",
              "      <th></th>\n",
              "      <th>Player Name</th>\n",
              "      <th>Base Price</th>\n",
              "      <th>Type</th>\n",
              "      <th>Cost in Rs. (CR)</th>\n",
              "      <th>Cost in $ (K)</th>\n",
              "      <th>2022 Squad</th>\n",
              "      <th>2023 Squad</th>\n",
              "    </tr>\n",
              "  </thead>\n",
              "  <tbody>\n",
              "    <tr>\n",
              "      <th>0</th>\n",
              "      <td>Shivam Mavi</td>\n",
              "      <td>4000000</td>\n",
              "      <td>BOWLER</td>\n",
              "      <td>6.0</td>\n",
              "      <td>720.0</td>\n",
              "      <td>KKR</td>\n",
              "      <td>GT</td>\n",
              "    </tr>\n",
              "    <tr>\n",
              "      <th>1</th>\n",
              "      <td>Joshua Little</td>\n",
              "      <td>5000000</td>\n",
              "      <td>BOWLER</td>\n",
              "      <td>4.4</td>\n",
              "      <td>528.0</td>\n",
              "      <td>NaN</td>\n",
              "      <td>GT</td>\n",
              "    </tr>\n",
              "    <tr>\n",
              "      <th>2</th>\n",
              "      <td>Kane Williamson</td>\n",
              "      <td>20000000</td>\n",
              "      <td>BATSMAN</td>\n",
              "      <td>2.0</td>\n",
              "      <td>240.0</td>\n",
              "      <td>SRH</td>\n",
              "      <td>GT</td>\n",
              "    </tr>\n",
              "    <tr>\n",
              "      <th>3</th>\n",
              "      <td>K.S. Bharat</td>\n",
              "      <td>2000000</td>\n",
              "      <td>WICKETKEEPER</td>\n",
              "      <td>1.2</td>\n",
              "      <td>144.0</td>\n",
              "      <td>DC</td>\n",
              "      <td>GT</td>\n",
              "    </tr>\n",
              "    <tr>\n",
              "      <th>4</th>\n",
              "      <td>Mohit Sharma</td>\n",
              "      <td>5000000</td>\n",
              "      <td>BOWLER</td>\n",
              "      <td>0.5</td>\n",
              "      <td>60.0</td>\n",
              "      <td>NaN</td>\n",
              "      <td>GT</td>\n",
              "    </tr>\n",
              "  </tbody>\n",
              "</table>\n",
              "</div>\n",
              "      <button class=\"colab-df-convert\" onclick=\"convertToInteractive('df-50a710a9-4e32-4891-8191-c73c539df1f6')\"\n",
              "              title=\"Convert this dataframe to an interactive table.\"\n",
              "              style=\"display:none;\">\n",
              "        \n",
              "  <svg xmlns=\"http://www.w3.org/2000/svg\" height=\"24px\"viewBox=\"0 0 24 24\"\n",
              "       width=\"24px\">\n",
              "    <path d=\"M0 0h24v24H0V0z\" fill=\"none\"/>\n",
              "    <path d=\"M18.56 5.44l.94 2.06.94-2.06 2.06-.94-2.06-.94-.94-2.06-.94 2.06-2.06.94zm-11 1L8.5 8.5l.94-2.06 2.06-.94-2.06-.94L8.5 2.5l-.94 2.06-2.06.94zm10 10l.94 2.06.94-2.06 2.06-.94-2.06-.94-.94-2.06-.94 2.06-2.06.94z\"/><path d=\"M17.41 7.96l-1.37-1.37c-.4-.4-.92-.59-1.43-.59-.52 0-1.04.2-1.43.59L10.3 9.45l-7.72 7.72c-.78.78-.78 2.05 0 2.83L4 21.41c.39.39.9.59 1.41.59.51 0 1.02-.2 1.41-.59l7.78-7.78 2.81-2.81c.8-.78.8-2.07 0-2.86zM5.41 20L4 18.59l7.72-7.72 1.47 1.35L5.41 20z\"/>\n",
              "  </svg>\n",
              "      </button>\n",
              "      \n",
              "  <style>\n",
              "    .colab-df-container {\n",
              "      display:flex;\n",
              "      flex-wrap:wrap;\n",
              "      gap: 12px;\n",
              "    }\n",
              "\n",
              "    .colab-df-convert {\n",
              "      background-color: #E8F0FE;\n",
              "      border: none;\n",
              "      border-radius: 50%;\n",
              "      cursor: pointer;\n",
              "      display: none;\n",
              "      fill: #1967D2;\n",
              "      height: 32px;\n",
              "      padding: 0 0 0 0;\n",
              "      width: 32px;\n",
              "    }\n",
              "\n",
              "    .colab-df-convert:hover {\n",
              "      background-color: #E2EBFA;\n",
              "      box-shadow: 0px 1px 2px rgba(60, 64, 67, 0.3), 0px 1px 3px 1px rgba(60, 64, 67, 0.15);\n",
              "      fill: #174EA6;\n",
              "    }\n",
              "\n",
              "    [theme=dark] .colab-df-convert {\n",
              "      background-color: #3B4455;\n",
              "      fill: #D2E3FC;\n",
              "    }\n",
              "\n",
              "    [theme=dark] .colab-df-convert:hover {\n",
              "      background-color: #434B5C;\n",
              "      box-shadow: 0px 1px 3px 1px rgba(0, 0, 0, 0.15);\n",
              "      filter: drop-shadow(0px 1px 2px rgba(0, 0, 0, 0.3));\n",
              "      fill: #FFFFFF;\n",
              "    }\n",
              "  </style>\n",
              "\n",
              "      <script>\n",
              "        const buttonEl =\n",
              "          document.querySelector('#df-50a710a9-4e32-4891-8191-c73c539df1f6 button.colab-df-convert');\n",
              "        buttonEl.style.display =\n",
              "          google.colab.kernel.accessAllowed ? 'block' : 'none';\n",
              "\n",
              "        async function convertToInteractive(key) {\n",
              "          const element = document.querySelector('#df-50a710a9-4e32-4891-8191-c73c539df1f6');\n",
              "          const dataTable =\n",
              "            await google.colab.kernel.invokeFunction('convertToInteractive',\n",
              "                                                     [key], {});\n",
              "          if (!dataTable) return;\n",
              "\n",
              "          const docLinkHtml = 'Like what you see? Visit the ' +\n",
              "            '<a target=\"_blank\" href=https://colab.research.google.com/notebooks/data_table.ipynb>data table notebook</a>'\n",
              "            + ' to learn more about interactive tables.';\n",
              "          element.innerHTML = '';\n",
              "          dataTable['output_type'] = 'display_data';\n",
              "          await google.colab.output.renderOutput(dataTable, element);\n",
              "          const docLink = document.createElement('div');\n",
              "          docLink.innerHTML = docLinkHtml;\n",
              "          element.appendChild(docLink);\n",
              "        }\n",
              "      </script>\n",
              "    </div>\n",
              "  </div>\n",
              "  "
            ]
          },
          "metadata": {},
          "execution_count": 24
        }
      ]
    },
    {
      "cell_type": "code",
      "source": [
        "#number of players in each team\n",
        "ipl2=ipl.groupby(\"2023 Squad\")[\"Player Name\"].count().sort_values(ascending=False)\n",
        "ipl2"
      ],
      "metadata": {
        "colab": {
          "base_uri": "https://localhost:8080/"
        },
        "id": "Thsxrfq9fyzT",
        "outputId": "22479290-68b1-4100-9408-1bce3d3567cf"
      },
      "execution_count": null,
      "outputs": [
        {
          "output_type": "execute_result",
          "data": {
            "text/plain": [
              "2023 Squad\n",
              "Unsold    325\n",
              "CSK        25\n",
              "DC         25\n",
              "GT         25\n",
              "LSG        25\n",
              "RCB        25\n",
              "RR         25\n",
              "SRH        25\n",
              "MI         24\n",
              "KKR        22\n",
              "PBKS       22\n",
              "Name: Player Name, dtype: int64"
            ]
          },
          "metadata": {},
          "execution_count": 30
        }
      ]
    },
    {
      "cell_type": "code",
      "source": [
        "#number of players in each team\n",
        "ipl3=ipl.groupby(\"2022 Squad\")[\"Player Name\"].count().sort_values(ascending=False)\n",
        "ipl3"
      ],
      "metadata": {
        "colab": {
          "base_uri": "https://localhost:8080/"
        },
        "id": "ycr_3MhngM4F",
        "outputId": "e2088d21-974f-4d0f-82c6-441ad2908451"
      },
      "execution_count": null,
      "outputs": [
        {
          "output_type": "execute_result",
          "data": {
            "text/plain": [
              "2022 Squad\n",
              "MI      28\n",
              "CSK     24\n",
              "PBKS    24\n",
              "RR      24\n",
              "DC      23\n",
              "GT      22\n",
              "KKR     22\n",
              "SRH     22\n",
              "LSG     21\n",
              "RCB     20\n",
              "Name: Player Name, dtype: int64"
            ]
          },
          "metadata": {},
          "execution_count": 31
        }
      ]
    },
    {
      "cell_type": "code",
      "source": [
        "#number of players of each type\n",
        "ipl4=ipl.groupby(\"Type\")[\"Player Name\"].count().sort_values(ascending=False)\n",
        "ipl4"
      ],
      "metadata": {
        "colab": {
          "base_uri": "https://localhost:8080/"
        },
        "id": "HncUZXMghTS4",
        "outputId": "a4530d99-3c0d-4635-83e0-a2b37ed3a3c0"
      },
      "execution_count": null,
      "outputs": [
        {
          "output_type": "execute_result",
          "data": {
            "text/plain": [
              "Type\n",
              "ALL-ROUNDER     213\n",
              "BOWLER          189\n",
              "BATSMAN          91\n",
              "WICKETKEEPER     75\n",
              "Name: Player Name, dtype: int64"
            ]
          },
          "metadata": {},
          "execution_count": 37
        }
      ]
    },
    {
      "cell_type": "code",
      "source": [
        "#Top five highest paid players of 2023\n",
        "ipl1=ipl.sort_values(by=\"Cost in Rs. (CR)\",ascending=False)\n",
        "ipl1[[\"Player Name\",\"Cost in Rs. (CR)\"]][:5].set_index(\"Player Name\")"
      ],
      "metadata": {
        "colab": {
          "base_uri": "https://localhost:8080/",
          "height": 237
        },
        "id": "eXvguL2Nh3p7",
        "outputId": "a93aec2c-45f0-4b6f-a9fa-165ab6471bd6"
      },
      "execution_count": null,
      "outputs": [
        {
          "output_type": "execute_result",
          "data": {
            "text/plain": [
              "                 Cost in Rs. (CR)\n",
              "Player Name                      \n",
              "Sam Curran                  18.50\n",
              "Cameron Green               17.50\n",
              "Ben Stokes                  16.25\n",
              "Nicholas Pooran             16.00\n",
              "Harry Brook                 13.25"
            ],
            "text/html": [
              "\n",
              "  <div id=\"df-e19618d0-7259-4a18-ad5d-38a3d39686a1\">\n",
              "    <div class=\"colab-df-container\">\n",
              "      <div>\n",
              "<style scoped>\n",
              "    .dataframe tbody tr th:only-of-type {\n",
              "        vertical-align: middle;\n",
              "    }\n",
              "\n",
              "    .dataframe tbody tr th {\n",
              "        vertical-align: top;\n",
              "    }\n",
              "\n",
              "    .dataframe thead th {\n",
              "        text-align: right;\n",
              "    }\n",
              "</style>\n",
              "<table border=\"1\" class=\"dataframe\">\n",
              "  <thead>\n",
              "    <tr style=\"text-align: right;\">\n",
              "      <th></th>\n",
              "      <th>Cost in Rs. (CR)</th>\n",
              "    </tr>\n",
              "    <tr>\n",
              "      <th>Player Name</th>\n",
              "      <th></th>\n",
              "    </tr>\n",
              "  </thead>\n",
              "  <tbody>\n",
              "    <tr>\n",
              "      <th>Sam Curran</th>\n",
              "      <td>18.50</td>\n",
              "    </tr>\n",
              "    <tr>\n",
              "      <th>Cameron Green</th>\n",
              "      <td>17.50</td>\n",
              "    </tr>\n",
              "    <tr>\n",
              "      <th>Ben Stokes</th>\n",
              "      <td>16.25</td>\n",
              "    </tr>\n",
              "    <tr>\n",
              "      <th>Nicholas Pooran</th>\n",
              "      <td>16.00</td>\n",
              "    </tr>\n",
              "    <tr>\n",
              "      <th>Harry Brook</th>\n",
              "      <td>13.25</td>\n",
              "    </tr>\n",
              "  </tbody>\n",
              "</table>\n",
              "</div>\n",
              "      <button class=\"colab-df-convert\" onclick=\"convertToInteractive('df-e19618d0-7259-4a18-ad5d-38a3d39686a1')\"\n",
              "              title=\"Convert this dataframe to an interactive table.\"\n",
              "              style=\"display:none;\">\n",
              "        \n",
              "  <svg xmlns=\"http://www.w3.org/2000/svg\" height=\"24px\"viewBox=\"0 0 24 24\"\n",
              "       width=\"24px\">\n",
              "    <path d=\"M0 0h24v24H0V0z\" fill=\"none\"/>\n",
              "    <path d=\"M18.56 5.44l.94 2.06.94-2.06 2.06-.94-2.06-.94-.94-2.06-.94 2.06-2.06.94zm-11 1L8.5 8.5l.94-2.06 2.06-.94-2.06-.94L8.5 2.5l-.94 2.06-2.06.94zm10 10l.94 2.06.94-2.06 2.06-.94-2.06-.94-.94-2.06-.94 2.06-2.06.94z\"/><path d=\"M17.41 7.96l-1.37-1.37c-.4-.4-.92-.59-1.43-.59-.52 0-1.04.2-1.43.59L10.3 9.45l-7.72 7.72c-.78.78-.78 2.05 0 2.83L4 21.41c.39.39.9.59 1.41.59.51 0 1.02-.2 1.41-.59l7.78-7.78 2.81-2.81c.8-.78.8-2.07 0-2.86zM5.41 20L4 18.59l7.72-7.72 1.47 1.35L5.41 20z\"/>\n",
              "  </svg>\n",
              "      </button>\n",
              "      \n",
              "  <style>\n",
              "    .colab-df-container {\n",
              "      display:flex;\n",
              "      flex-wrap:wrap;\n",
              "      gap: 12px;\n",
              "    }\n",
              "\n",
              "    .colab-df-convert {\n",
              "      background-color: #E8F0FE;\n",
              "      border: none;\n",
              "      border-radius: 50%;\n",
              "      cursor: pointer;\n",
              "      display: none;\n",
              "      fill: #1967D2;\n",
              "      height: 32px;\n",
              "      padding: 0 0 0 0;\n",
              "      width: 32px;\n",
              "    }\n",
              "\n",
              "    .colab-df-convert:hover {\n",
              "      background-color: #E2EBFA;\n",
              "      box-shadow: 0px 1px 2px rgba(60, 64, 67, 0.3), 0px 1px 3px 1px rgba(60, 64, 67, 0.15);\n",
              "      fill: #174EA6;\n",
              "    }\n",
              "\n",
              "    [theme=dark] .colab-df-convert {\n",
              "      background-color: #3B4455;\n",
              "      fill: #D2E3FC;\n",
              "    }\n",
              "\n",
              "    [theme=dark] .colab-df-convert:hover {\n",
              "      background-color: #434B5C;\n",
              "      box-shadow: 0px 1px 3px 1px rgba(0, 0, 0, 0.15);\n",
              "      filter: drop-shadow(0px 1px 2px rgba(0, 0, 0, 0.3));\n",
              "      fill: #FFFFFF;\n",
              "    }\n",
              "  </style>\n",
              "\n",
              "      <script>\n",
              "        const buttonEl =\n",
              "          document.querySelector('#df-e19618d0-7259-4a18-ad5d-38a3d39686a1 button.colab-df-convert');\n",
              "        buttonEl.style.display =\n",
              "          google.colab.kernel.accessAllowed ? 'block' : 'none';\n",
              "\n",
              "        async function convertToInteractive(key) {\n",
              "          const element = document.querySelector('#df-e19618d0-7259-4a18-ad5d-38a3d39686a1');\n",
              "          const dataTable =\n",
              "            await google.colab.kernel.invokeFunction('convertToInteractive',\n",
              "                                                     [key], {});\n",
              "          if (!dataTable) return;\n",
              "\n",
              "          const docLinkHtml = 'Like what you see? Visit the ' +\n",
              "            '<a target=\"_blank\" href=https://colab.research.google.com/notebooks/data_table.ipynb>data table notebook</a>'\n",
              "            + ' to learn more about interactive tables.';\n",
              "          element.innerHTML = '';\n",
              "          dataTable['output_type'] = 'display_data';\n",
              "          await google.colab.output.renderOutput(dataTable, element);\n",
              "          const docLink = document.createElement('div');\n",
              "          docLink.innerHTML = docLinkHtml;\n",
              "          element.appendChild(docLink);\n",
              "        }\n",
              "      </script>\n",
              "    </div>\n",
              "  </div>\n",
              "  "
            ]
          },
          "metadata": {},
          "execution_count": 40
        }
      ]
    },
    {
      "cell_type": "code",
      "source": [
        "ipl5=ipl.groupby(\"2022 Squad\")[\"Cost in Rs. (CR)\"].sum().sort_values(ascending=False)\n",
        "ipl5"
      ],
      "metadata": {
        "colab": {
          "base_uri": "https://localhost:8080/"
        },
        "id": "Ys1Mi0j3iXlI",
        "outputId": "7c602cb8-cc8a-45af-ffc2-927f71756520"
      },
      "execution_count": null,
      "outputs": [
        {
          "output_type": "execute_result",
          "data": {
            "text/plain": [
              "2022 Squad\n",
              "SRH     22.823457\n",
              "PBKS    12.298971\n",
              "LSG     10.898971\n",
              "KKR     10.623457\n",
              "MI       6.960700\n",
              "RR       5.497942\n",
              "CSK      3.461728\n",
              "GT       2.748971\n",
              "DC       2.387243\n",
              "RCB      1.374486\n",
              "Name: Cost in Rs. (CR), dtype: float64"
            ]
          },
          "metadata": {},
          "execution_count": 44
        }
      ]
    },
    {
      "cell_type": "code",
      "source": [
        "ipl6=ipl.groupby(\"2023 Squad\")[\"Cost in Rs. (CR)\"].sum().sort_values(ascending=False)\n",
        "ipl6"
      ],
      "metadata": {
        "colab": {
          "base_uri": "https://localhost:8080/"
        },
        "id": "ctvbZwb7jOf-",
        "outputId": "c9a9142e-26f9-4274-cecb-be3e6f5ab035"
      },
      "execution_count": null,
      "outputs": [
        {
          "output_type": "execute_result",
          "data": {
            "text/plain": [
              "2023 Squad\n",
              "Unsold    223.353909\n",
              "SRH        35.700000\n",
              "MI         20.500000\n",
              "PBKS       20.000000\n",
              "LSG        19.800000\n",
              "CSK        18.950000\n",
              "DC         15.000000\n",
              "GT         14.800000\n",
              "RR          9.850000\n",
              "RCB         7.000000\n",
              "KKR         5.400000\n",
              "Name: Cost in Rs. (CR), dtype: float64"
            ]
          },
          "metadata": {},
          "execution_count": 45
        }
      ]
    },
    {
      "cell_type": "code",
      "source": [
        "ipl7=ipl.groupby(\"Type\")[\"Cost in Rs. (CR)\"].sum().sort_values()\n",
        "ipl7"
      ],
      "metadata": {
        "colab": {
          "base_uri": "https://localhost:8080/"
        },
        "id": "Oev-rqoojYKN",
        "outputId": "e979fe19-0ade-4568-812b-fa638fb15bb1"
      },
      "execution_count": null,
      "outputs": [
        {
          "output_type": "execute_result",
          "data": {
            "text/plain": [
              "Type\n",
              "WICKETKEEPER     58.525926\n",
              "BATSMAN          70.862140\n",
              "BOWLER          103.623251\n",
              "ALL-ROUNDER     157.342593\n",
              "Name: Cost in Rs. (CR), dtype: float64"
            ]
          },
          "metadata": {},
          "execution_count": 47
        }
      ]
    },
    {
      "cell_type": "code",
      "source": [
        "sns.barplot(x=\"Player Name\",y=\"Cost in Rs. (CR)\",data=ipl1[:5])\n",
        "plt.xlabel(\"Player Name\")\n",
        "plt.ylabel(\"Cost in Rs. (CR)\")\n",
        "plt.title(\"Top five highest paid players of 2023\",bbox={\"facecolor\":\"black\"},color=\"white\")\n",
        "plt.show()"
      ],
      "metadata": {
        "colab": {
          "base_uri": "https://localhost:8080/",
          "height": 472
        },
        "id": "s5G-32u8jxVa",
        "outputId": "c8506a48-e6e5-4e16-b480-f10a80af6495"
      },
      "execution_count": null,
      "outputs": [
        {
          "output_type": "display_data",
          "data": {
            "text/plain": [
              "<Figure size 640x480 with 1 Axes>"
            ],
            "image/png": "[encoded data removed]"
          },
          "metadata": {}
        }
      ]
    },
    {
      "cell_type": "code",
      "source": [
        "plt.pie(ipl2,labels=ipl2.index,explode=[0.1,0.2,0.2,0.2,0.2,0.2,0.2,0.2,0.2,0.2,0.2],autopct=\"%0.01f%%\",radius=1.5)\n",
        "#plt.title(\"percent of players in each team\",bbox={\"facecolor\":\"black\"},color=\"white\")\n",
        "plt.tight_layout()\n",
        "plt.show()"
      ],
      "metadata": {
        "colab": {
          "base_uri": "https://localhost:8080/",
          "height": 450
        },
        "id": "XnaLQnzqkfl0",
        "outputId": "db617a58-52aa-42eb-93f8-78d42e686674"
      },
      "execution_count": null,
      "outputs": [
        {
          "output_type": "display_data",
          "data": {
            "text/plain": [
              "<Figure size 640x480 with 1 Axes>"
            ],
            "image/png": "[encoded data removed]"
          },
          "metadata": {}
        }
      ]
    },
    {
      "cell_type": "code",
      "source": [
        "plt.pie(ipl4,labels=ipl4.index,autopct=\"%0.01f%%\",colors=[\"red\",\"yellow\",\"pink\",\"blue\"])\n",
        "#plt.legend()\n",
        "plt.show()"
      ],
      "metadata": {
        "colab": {
          "base_uri": "https://localhost:8080/",
          "height": 406
        },
        "id": "cy0fMvkTk8Pa",
        "outputId": "e06ee090-7341-405a-e739-219fa9966c0f"
      },
      "execution_count": null,
      "outputs": [
        {
          "output_type": "display_data",
          "data": {
            "text/plain": [
              "<Figure size 640x480 with 1 Axes>"
            ],
            "image/png": "[encoded data removed]"
          },
          "metadata": {}
        }
      ]
    },
    {
      "cell_type": "code",
      "source": [
        "plt.figure(figsize=(8,5))\n",
        "plt.barh(ipl5.index,ipl5.values)\n",
        "plt.xlabel(\"Price (in Cr)\",color=\"blue\",size=20)\n",
        "plt.ylabel(\"Team\",color=\"blue\",size=20)\n",
        "plt.title(\"Team 2022 auction cost\",bbox={\"facecolor\":\"black\"},color=\"white\")\n",
        "plt.show()"
      ],
      "metadata": {
        "colab": {
          "base_uri": "https://localhost:8080/",
          "height": 501
        },
        "id": "aIJvcYhBlQ9_",
        "outputId": "acb0abbf-556e-42fc-d6eb-762ff3e48509"
      },
      "execution_count": null,
      "outputs": [
        {
          "output_type": "display_data",
          "data": {
            "text/plain": [
              "<Figure size 800x500 with 1 Axes>"
            ],
            "image/png": "[encoded data removed]"
          },
          "metadata": {}
        }
      ]
    },
    {
      "cell_type": "code",
      "source": [
        "plt.figure(figsize=(8,5))\n",
        "plt.barh(ipl6.index,ipl6.values)\n",
        "plt.xlabel(\"Price (in Cr)\",color=\"blue\",size=20)\n",
        "plt.ylabel(\"Team\",color=\"blue\",size=20)\n",
        "plt.title(\"Team 2023 auction cost\",bbox={\"facecolor\":\"black\"},color=\"white\")\n",
        "plt.show()"
      ],
      "metadata": {
        "colab": {
          "base_uri": "https://localhost:8080/",
          "height": 501
        },
        "id": "0qzS4g1lliEN",
        "outputId": "b1ca9c8c-33bd-4760-c1c3-3ab09186c997"
      },
      "execution_count": null,
      "outputs": [
        {
          "output_type": "display_data",
          "data": {
            "text/plain": [
              "<Figure size 800x500 with 1 Axes>"
            ],
            "image/png": "[encoded data removed]"
          },
          "metadata": {}
        }
      ]
    },
    {
      "cell_type": "code",
      "source": [
        "plt.pie(ipl7,labels=ipl7.index,autopct=\"%0.2f%%\",colors=[\"green\",\"yellow\",\"orange\",\"brown\"],explode=[0.1,0.1,0.1,0.1])\n",
        "plt.tight_layout()\n",
        "plt.show()"
      ],
      "metadata": {
        "colab": {
          "base_uri": "https://localhost:8080/",
          "height": 487
        },
        "id": "EllBPxsSmAfJ",
        "outputId": "c35b09cd-bff5-4864-cae5-86e9da395472"
      },
      "execution_count": null,
      "outputs": [
        {
          "output_type": "display_data",
          "data": {
            "text/plain": [
              "<Figure size 640x480 with 1 Axes>"
            ],
            "image/png": "[encoded data removed]"
          },
          "metadata": {}
        }
      ]
    },
    {
      "cell_type": "code",
      "source": [
        "ipl.Type=='Bowler'"
      ],
      "metadata": {
        "colab": {
          "base_uri": "https://localhost:8080/"
        },
        "id": "w_YyDzC-0hsd",
        "outputId": "0d2f57c6-99b3-4585-8b4e-e0724ebb4ee3"
      },
      "execution_count": null,
      "outputs": [
        {
          "output_type": "execute_result",
          "data": {
            "text/plain": [
              "0      False\n",
              "1      False\n",
              "2      False\n",
              "3      False\n",
              "4      False\n",
              "       ...  \n",
              "563    False\n",
              "564    False\n",
              "565    False\n",
              "566    False\n",
              "567    False\n",
              "Name: Type, Length: 568, dtype: bool"
            ]
          },
          "metadata": {},
          "execution_count": 8
        }
      ]
    },
    {
      "cell_type": "code",
      "source": [
        "ipl=ipl.rename(columns={\"2023 Squad\":\"presentSquad\"})"
      ],
      "metadata": {
        "id": "t3TTuR_x1PLg"
      },
      "execution_count": null,
      "outputs": []
    },
    {
      "cell_type": "code",
      "source": [
        "ipl[ipl.presentSquad=='MI']"
      ],
      "metadata": {
        "colab": {
          "base_uri": "https://localhost:8080/",
          "height": 1000
        },
        "id": "uiPuI1jV2MZm",
        "outputId": "29ba073f-56d9-4c86-e953-3ccc8ac09c57"
      },
      "execution_count": null,
      "outputs": [
        {
          "output_type": "execute_result",
          "data": {
            "text/plain": [
              "               Player Name Base Price          Type  Cost in Rs. (CR)  \\\n",
              "144          Cameron Green   20000000   ALL-ROUNDER              17.5   \n",
              "145        Jhye Richardson    1500000        BOWLER               1.5   \n",
              "146          Piyush Chawla    5000000        BOWLER               0.5   \n",
              "147           Raghav Goyal    2000000        BOWLER               0.2   \n",
              "148           Shams Mulani    2000000   ALL-ROUNDER               0.2   \n",
              "149          Nehal Wadhera    2000000   ALL-ROUNDER               0.2   \n",
              "150           Vishnu Vinod    2000000  WICKETKEEPER               0.2   \n",
              "151            Duan Jansen    2000000   ALL-ROUNDER               0.2   \n",
              "152        Ramandeep Singh   Retained   ALL-ROUNDER               0.0   \n",
              "153         N. Tilak Varma   Retained   ALL-ROUNDER               0.0   \n",
              "154      Mohd. Arshad Khan   Retained   ALL-ROUNDER               0.0   \n",
              "155           Rohit Sharma   Retained       BATSMAN               0.0   \n",
              "156       Suryakumar Yadav   Retained       BATSMAN               0.0   \n",
              "157  Kumar Kartikeya Singh   Retained   ALL-ROUNDER               0.0   \n",
              "158        Tristan Stubbs*   Retained  WICKETKEEPER               0.0   \n",
              "159              Tim David   Retained   ALL-ROUNDER               0.0   \n",
              "160        Hrithik Shokeen   Retained   ALL-ROUNDER               0.0   \n",
              "161        Arjun Tendulkar   Retained   ALL-ROUNDER               0.0   \n",
              "162          Akash Madhwal   Retained        BOWLER               0.0   \n",
              "163          Dewald Brevis   Retained       BATSMAN               0.0   \n",
              "164           Ishan Kishan   Retained  WICKETKEEPER               0.0   \n",
              "165         Jasprit Bumrah   Retained        BOWLER               0.0   \n",
              "166  Jason Behrendorff (T)   Retained        BOWLER               0.0   \n",
              "167           Jofra Archer   Retained   ALL-ROUNDER               0.0   \n",
              "\n",
              "     Cost in $ (K) 2022 Squad presentSquad  \n",
              "144         2100.0        NaN           MI  \n",
              "145          180.0        NaN           MI  \n",
              "146           60.0        NaN           MI  \n",
              "147           24.0        NaN           MI  \n",
              "148           24.0        NaN           MI  \n",
              "149           24.0        NaN           MI  \n",
              "150           24.0        SRH           MI  \n",
              "151           24.0        NaN           MI  \n",
              "152            0.0         MI           MI  \n",
              "153            0.0         MI           MI  \n",
              "154            0.0         MI           MI  \n",
              "155            0.0         MI           MI  \n",
              "156            0.0         MI           MI  \n",
              "157            0.0         MI           MI  \n",
              "158            0.0         MI           MI  \n",
              "159            0.0         MI           MI  \n",
              "160            0.0         MI           MI  \n",
              "161            0.0         MI           MI  \n",
              "162            0.0         MI           MI  \n",
              "163            0.0         MI           MI  \n",
              "164            0.0         MI           MI  \n",
              "165            0.0         MI           MI  \n",
              "166            0.0         MI           MI  \n",
              "167            0.0         MI           MI  "
            ],
            "text/html": [
              "\n",
              "  <div id=\"df-8909162d-5325-4485-bd3c-1fa53d90aba3\">\n",
              "    <div class=\"colab-df-container\">\n",
              "      <div>\n",
              "<style scoped>\n",
              "    .dataframe tbody tr th:only-of-type {\n",
              "        vertical-align: middle;\n",
              "    }\n",
              "\n",
              "    .dataframe tbody tr th {\n",
              "        vertical-align: top;\n",
              "    }\n",
              "\n",
              "    .dataframe thead th {\n",
              "        text-align: right;\n",
              "    }\n",
              "</style>\n",
              "<table border=\"1\" class=\"dataframe\">\n",
              "  <thead>\n",
              "    <tr style=\"text-align: right;\">\n",
              "      <th></th>\n",
              "      <th>Player Name</th>\n",
              "      <th>Base Price</th>\n",
              "      <th>Type</th>\n",
              "      <th>Cost in Rs. (CR)</th>\n",
              "      <th>Cost in $ (K)</th>\n",
              "      <th>2022 Squad</th>\n",
              "      <th>presentSquad</th>\n",
              "    </tr>\n",
              "  </thead>\n",
              "  <tbody>\n",
              "    <tr>\n",
              "      <th>144</th>\n",
              "      <td>Cameron Green</td>\n",
              "      <td>20000000</td>\n",
              "      <td>ALL-ROUNDER</td>\n",
              "      <td>17.5</td>\n",
              "      <td>2100.0</td>\n",
              "      <td>NaN</td>\n",
              "      <td>MI</td>\n",
              "    </tr>\n",
              "    <tr>\n",
              "      <th>145</th>\n",
              "      <td>Jhye Richardson</td>\n",
              "      <td>1500000</td>\n",
              "      <td>BOWLER</td>\n",
              "      <td>1.5</td>\n",
              "      <td>180.0</td>\n",
              "      <td>NaN</td>\n",
              "      <td>MI</td>\n",
              "    </tr>\n",
              "    <tr>\n",
              "      <th>146</th>\n",
              "      <td>Piyush Chawla</td>\n",
              "      <td>5000000</td>\n",
              "      <td>BOWLER</td>\n",
              "      <td>0.5</td>\n",
              "      <td>60.0</td>\n",
              "      <td>NaN</td>\n",
              "      <td>MI</td>\n",
              "    </tr>\n",
              "    <tr>\n",
              "      <th>147</th>\n",
              "      <td>Raghav Goyal</td>\n",
              "      <td>2000000</td>\n",
              "      <td>BOWLER</td>\n",
              "      <td>0.2</td>\n",
              "      <td>24.0</td>\n",
              "      <td>NaN</td>\n",
              "      <td>MI</td>\n",
              "    </tr>\n",
              "    <tr>\n",
              "      <th>148</th>\n",
              "      <td>Shams Mulani</td>\n",
              "      <td>2000000</td>\n",
              "      <td>ALL-ROUNDER</td>\n",
              "      <td>0.2</td>\n",
              "      <td>24.0</td>\n",
              "      <td>NaN</td>\n",
              "      <td>MI</td>\n",
              "    </tr>\n",
              "    <tr>\n",
              "      <th>149</th>\n",
              "      <td>Nehal Wadhera</td>\n",
              "      <td>2000000</td>\n",
              "      <td>ALL-ROUNDER</td>\n",
              "      <td>0.2</td>\n",
              "      <td>24.0</td>\n",
              "      <td>NaN</td>\n",
              "      <td>MI</td>\n",
              "    </tr>\n",
              "    <tr>\n",
              "      <th>150</th>\n",
              "      <td>Vishnu Vinod</td>\n",
              "      <td>2000000</td>\n",
              "      <td>WICKETKEEPER</td>\n",
              "      <td>0.2</td>\n",
              "      <td>24.0</td>\n",
              "      <td>SRH</td>\n",
              "      <td>MI</td>\n",
              "    </tr>\n",
              "    <tr>\n",
              "      <th>151</th>\n",
              "      <td>Duan Jansen</td>\n",
              "      <td>2000000</td>\n",
              "      <td>ALL-ROUNDER</td>\n",
              "      <td>0.2</td>\n",
              "      <td>24.0</td>\n",
              "      <td>NaN</td>\n",
              "      <td>MI</td>\n",
              "    </tr>\n",
              "    <tr>\n",
              "      <th>152</th>\n",
              "      <td>Ramandeep Singh</td>\n",
              "      <td>Retained</td>\n",
              "      <td>ALL-ROUNDER</td>\n",
              "      <td>0.0</td>\n",
              "      <td>0.0</td>\n",
              "      <td>MI</td>\n",
              "      <td>MI</td>\n",
              "    </tr>\n",
              "    <tr>\n",
              "      <th>153</th>\n",
              "      <td>N. Tilak Varma</td>\n",
              "      <td>Retained</td>\n",
              "      <td>ALL-ROUNDER</td>\n",
              "      <td>0.0</td>\n",
              "      <td>0.0</td>\n",
              "      <td>MI</td>\n",
              "      <td>MI</td>\n",
              "    </tr>\n",
              "    <tr>\n",
              "      <th>154</th>\n",
              "      <td>Mohd. Arshad Khan</td>\n",
              "      <td>Retained</td>\n",
              "      <td>ALL-ROUNDER</td>\n",
              "      <td>0.0</td>\n",
              "      <td>0.0</td>\n",
              "      <td>MI</td>\n",
              "      <td>MI</td>\n",
              "    </tr>\n",
              "    <tr>\n",
              "      <th>155</th>\n",
              "      <td>Rohit Sharma</td>\n",
              "      <td>Retained</td>\n",
              "      <td>BATSMAN</td>\n",
              "      <td>0.0</td>\n",
              "      <td>0.0</td>\n",
              "      <td>MI</td>\n",
              "      <td>MI</td>\n",
              "    </tr>\n",
              "    <tr>\n",
              "      <th>156</th>\n",
              "      <td>Suryakumar Yadav</td>\n",
              "      <td>Retained</td>\n",
              "      <td>BATSMAN</td>\n",
              "      <td>0.0</td>\n",
              "      <td>0.0</td>\n",
              "      <td>MI</td>\n",
              "      <td>MI</td>\n",
              "    </tr>\n",
              "    <tr>\n",
              "      <th>157</th>\n",
              "      <td>Kumar Kartikeya Singh</td>\n",
              "      <td>Retained</td>\n",
              "      <td>ALL-ROUNDER</td>\n",
              "      <td>0.0</td>\n",
              "      <td>0.0</td>\n",
              "      <td>MI</td>\n",
              "      <td>MI</td>\n",
              "    </tr>\n",
              "    <tr>\n",
              "      <th>158</th>\n",
              "      <td>Tristan Stubbs*</td>\n",
              "      <td>Retained</td>\n",
              "      <td>WICKETKEEPER</td>\n",
              "      <td>0.0</td>\n",
              "      <td>0.0</td>\n",
              "      <td>MI</td>\n",
              "      <td>MI</td>\n",
              "    </tr>\n",
              "    <tr>\n",
              "      <th>159</th>\n",
              "      <td>Tim David</td>\n",
              "      <td>Retained</td>\n",
              "      <td>ALL-ROUNDER</td>\n",
              "      <td>0.0</td>\n",
              "      <td>0.0</td>\n",
              "      <td>MI</td>\n",
              "      <td>MI</td>\n",
              "    </tr>\n",
              "    <tr>\n",
              "      <th>160</th>\n",
              "      <td>Hrithik Shokeen</td>\n",
              "      <td>Retained</td>\n",
              "      <td>ALL-ROUNDER</td>\n",
              "      <td>0.0</td>\n",
              "      <td>0.0</td>\n",
              "      <td>MI</td>\n",
              "      <td>MI</td>\n",
              "    </tr>\n",
              "    <tr>\n",
              "      <th>161</th>\n",
              "      <td>Arjun Tendulkar</td>\n",
              "      <td>Retained</td>\n",
              "      <td>ALL-ROUNDER</td>\n",
              "      <td>0.0</td>\n",
              "      <td>0.0</td>\n",
              "      <td>MI</td>\n",
              "      <td>MI</td>\n",
              "    </tr>\n",
              "    <tr>\n",
              "      <th>162</th>\n",
              "      <td>Akash Madhwal</td>\n",
              "      <td>Retained</td>\n",
              "      <td>BOWLER</td>\n",
              "      <td>0.0</td>\n",
              "      <td>0.0</td>\n",
              "      <td>MI</td>\n",
              "      <td>MI</td>\n",
              "    </tr>\n",
              "    <tr>\n",
              "      <th>163</th>\n",
              "      <td>Dewald Brevis</td>\n",
              "      <td>Retained</td>\n",
              "      <td>BATSMAN</td>\n",
              "      <td>0.0</td>\n",
              "      <td>0.0</td>\n",
              "      <td>MI</td>\n",
              "      <td>MI</td>\n",
              "    </tr>\n",
              "    <tr>\n",
              "      <th>164</th>\n",
              "      <td>Ishan Kishan</td>\n",
              "      <td>Retained</td>\n",
              "      <td>WICKETKEEPER</td>\n",
              "      <td>0.0</td>\n",
              "      <td>0.0</td>\n",
              "      <td>MI</td>\n",
              "      <td>MI</td>\n",
              "    </tr>\n",
              "    <tr>\n",
              "      <th>165</th>\n",
              "      <td>Jasprit Bumrah</td>\n",
              "      <td>Retained</td>\n",
              "      <td>BOWLER</td>\n",
              "      <td>0.0</td>\n",
              "      <td>0.0</td>\n",
              "      <td>MI</td>\n",
              "      <td>MI</td>\n",
              "    </tr>\n",
              "    <tr>\n",
              "      <th>166</th>\n",
              "      <td>Jason Behrendorff (T)</td>\n",
              "      <td>Retained</td>\n",
              "      <td>BOWLER</td>\n",
              "      <td>0.0</td>\n",
              "      <td>0.0</td>\n",
              "      <td>MI</td>\n",
              "      <td>MI</td>\n",
              "    </tr>\n",
              "    <tr>\n",
              "      <th>167</th>\n",
              "      <td>Jofra Archer</td>\n",
              "      <td>Retained</td>\n",
              "      <td>ALL-ROUNDER</td>\n",
              "      <td>0.0</td>\n",
              "      <td>0.0</td>\n",
              "      <td>MI</td>\n",
              "      <td>MI</td>\n",
              "    </tr>\n",
              "  </tbody>\n",
              "</table>\n",
              "</div>\n",
              "      <button class=\"colab-df-convert\" onclick=\"convertToInteractive('df-8909162d-5325-4485-bd3c-1fa53d90aba3')\"\n",
              "              title=\"Convert this dataframe to an interactive table.\"\n",
              "              style=\"display:none;\">\n",
              "        \n",
              "  <svg xmlns=\"http://www.w3.org/2000/svg\" height=\"24px\"viewBox=\"0 0 24 24\"\n",
              "       width=\"24px\">\n",
              "    <path d=\"M0 0h24v24H0V0z\" fill=\"none\"/>\n",
              "    <path d=\"M18.56 5.44l.94 2.06.94-2.06 2.06-.94-2.06-.94-.94-2.06-.94 2.06-2.06.94zm-11 1L8.5 8.5l.94-2.06 2.06-.94-2.06-.94L8.5 2.5l-.94 2.06-2.06.94zm10 10l.94 2.06.94-2.06 2.06-.94-2.06-.94-.94-2.06-.94 2.06-2.06.94z\"/><path d=\"M17.41 7.96l-1.37-1.37c-.4-.4-.92-.59-1.43-.59-.52 0-1.04.2-1.43.59L10.3 9.45l-7.72 7.72c-.78.78-.78 2.05 0 2.83L4 21.41c.39.39.9.59 1.41.59.51 0 1.02-.2 1.41-.59l7.78-7.78 2.81-2.81c.8-.78.8-2.07 0-2.86zM5.41 20L4 18.59l7.72-7.72 1.47 1.35L5.41 20z\"/>\n",
              "  </svg>\n",
              "      </button>\n",
              "      \n",
              "  <style>\n",
              "    .colab-df-container {\n",
              "      display:flex;\n",
              "      flex-wrap:wrap;\n",
              "      gap: 12px;\n",
              "    }\n",
              "\n",
              "    .colab-df-convert {\n",
              "      background-color: #E8F0FE;\n",
              "      border: none;\n",
              "      border-radius: 50%;\n",
              "      cursor: pointer;\n",
              "      display: none;\n",
              "      fill: #1967D2;\n",
              "      height: 32px;\n",
              "      padding: 0 0 0 0;\n",
              "      width: 32px;\n",
              "    }\n",
              "\n",
              "    .colab-df-convert:hover {\n",
              "      background-color: #E2EBFA;\n",
              "      box-shadow: 0px 1px 2px rgba(60, 64, 67, 0.3), 0px 1px 3px 1px rgba(60, 64, 67, 0.15);\n",
              "      fill: #174EA6;\n",
              "    }\n",
              "\n",
              "    [theme=dark] .colab-df-convert {\n",
              "      background-color: #3B4455;\n",
              "      fill: #D2E3FC;\n",
              "    }\n",
              "\n",
              "    [theme=dark] .colab-df-convert:hover {\n",
              "      background-color: #434B5C;\n",
              "      box-shadow: 0px 1px 3px 1px rgba(0, 0, 0, 0.15);\n",
              "      filter: drop-shadow(0px 1px 2px rgba(0, 0, 0, 0.3));\n",
              "      fill: #FFFFFF;\n",
              "    }\n",
              "  </style>\n",
              "\n",
              "      <script>\n",
              "        const buttonEl =\n",
              "          document.querySelector('#df-8909162d-5325-4485-bd3c-1fa53d90aba3 button.colab-df-convert');\n",
              "        buttonEl.style.display =\n",
              "          google.colab.kernel.accessAllowed ? 'block' : 'none';\n",
              "\n",
              "        async function convertToInteractive(key) {\n",
              "          const element = document.querySelector('#df-8909162d-5325-4485-bd3c-1fa53d90aba3');\n",
              "          const dataTable =\n",
              "            await google.colab.kernel.invokeFunction('convertToInteractive',\n",
              "                                                     [key], {});\n",
              "          if (!dataTable) return;\n",
              "\n",
              "          const docLinkHtml = 'Like what you see? Visit the ' +\n",
              "            '<a target=\"_blank\" href=https://colab.research.google.com/notebooks/data_table.ipynb>data table notebook</a>'\n",
              "            + ' to learn more about interactive tables.';\n",
              "          element.innerHTML = '';\n",
              "          dataTable['output_type'] = 'display_data';\n",
              "          await google.colab.output.renderOutput(dataTable, element);\n",
              "          const docLink = document.createElement('div');\n",
              "          docLink.innerHTML = docLinkHtml;\n",
              "          element.appendChild(docLink);\n",
              "        }\n",
              "      </script>\n",
              "    </div>\n",
              "  </div>\n",
              "  "
            ]
          },
          "metadata": {},
          "execution_count": 18
        }
      ]
    }
  ]
}